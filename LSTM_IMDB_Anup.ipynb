{
  "nbformat": 4,
  "nbformat_minor": 0,
  "metadata": {
    "colab": {
      "name": "LSTM-IMDB-Anup.ipynb",
      "provenance": [],
      "collapsed_sections": [],
      "authorship_tag": "ABX9TyPqq4sG9ehx9d8OzfhGXvlb",
      "include_colab_link": true
    },
    "kernelspec": {
      "name": "python3",
      "display_name": "Python 3"
    },
    "accelerator": "GPU"
  },
  "cells": [
    {
      "cell_type": "markdown",
      "metadata": {
        "id": "view-in-github",
        "colab_type": "text"
      },
      "source": [
        "<a href=\"https://colab.research.google.com/github/anupkkumarfb/LSTM/blob/master/LSTM_IMDB_Anup.ipynb\" target=\"_parent\"><img src=\"https://colab.research.google.com/assets/colab-badge.svg\" alt=\"Open In Colab\"/></a>"
      ]
    },
    {
      "cell_type": "code",
      "metadata": {
        "id": "jBaOXrrZNMOn",
        "colab_type": "code",
        "colab": {
          "base_uri": "https://localhost:8080/",
          "height": 742
        },
        "outputId": "f37b6d3f-38ee-4ddd-e6ac-4eca79a620a7"
      },
      "source": [
        "import numpy as np\n",
        "from matplotlib import pyplot as plt\n",
        "plt.style.use('dark_background')\n",
        "from keras.datasets import imdb\n",
        "from keras.models import Sequential\n",
        "from keras.preprocessing import sequence\n",
        "from keras.preprocessing.sequence import pad_sequences\n",
        "from keras.layers import Embedding, GlobalAveragePooling1D, Dense, LSTM\n",
        "\n",
        "\n",
        "np_load_old = np.load\n",
        "np.load = lambda *a,**k: np_load_old(*a,allow_pickle=True)\n",
        "top_words = 5000\n",
        "(X_train, y_train), (X_test, y_test) = imdb.load_data(num_words=top_words)\n",
        "np.load = np_load_old\n",
        "\n",
        "\n",
        "print (\"The first review is : {}, its length is :{}, its type is: {}\".format(X_train[1],len(X_train[1]), type(X_train)))\n",
        "\n",
        "#Padding to make sure all reviews are of equal length\n",
        "max_review_length = 500\n",
        "\n",
        "X_train = sequence.pad_sequences(X_train, maxlen=max_review_length)\n",
        "X_test = sequence.pad_sequences(X_test, maxlen=max_review_length)\n",
        "#print (\"The first review is : {}, shape is: {}\".format(X_train[1],X_train.shape))\n",
        "\n",
        "embedding_vector_length = 32  \n",
        "#Embedding layer - given any indices returns a vector. can be thought of word2vec.  Embedding_vector_length = number of activation functions\n",
        "\n",
        "#Sequential model --> Output of one layer goes as input to the next\n",
        "model = Sequential()\n",
        "\n",
        "#Adding an embedding layer\n",
        "model.add(Embedding(top_words+1, embedding_vector_length, input_length=max_review_length))\n",
        "\n",
        "from keras.utils.vis_utils import plot_model\n",
        "model = Sequential()\n",
        "model.add(Embedding(top_words+1, embedding_vector_length, input_length=max_review_length))\n",
        "model.add(LSTM(100))  #Each LSTM cell will take 32 outputs from previous layer (activation function) as input\n",
        "#model.add(Dense(1,activation='sigmoid'))\n",
        "model.add(Dense(100,activation='sigmoid'))\n",
        "model.add(Dense(1,activation='sigmoid'))\n",
        "model.compile(loss='binary_crossentropy',optimizer='adam', metrics=['accuracy'])\n",
        "print(model.summary())\n",
        "\n",
        "\n",
        "import time\n",
        "start = time.time()\n",
        "epochs = 30\n",
        "\n",
        "model.fit(X_train, y_train, batch_size=32, epochs=epochs)\n",
        "print (\"Time to train the model with {} epochs: {}\".format(epochs,(time.time()-start)))\n",
        "\n",
        "start = time.time()\n",
        "\n",
        "scores = model.evaluate(X_test, y_test)\n",
        "print (\"Time to evaluate the model with {}\".format((time.time()-start)))\n",
        "print(\"Accuracy: %.2f%%\" % (scores[1]*100))\n",
        "print(\"Scores: \", scores)"
      ],
      "execution_count": null,
      "outputs": [
        {
          "output_type": "stream",
          "text": [
            "The first review is : [1, 194, 1153, 194, 2, 78, 228, 5, 6, 1463, 4369, 2, 134, 26, 4, 715, 8, 118, 1634, 14, 394, 20, 13, 119, 954, 189, 102, 5, 207, 110, 3103, 21, 14, 69, 188, 8, 30, 23, 7, 4, 249, 126, 93, 4, 114, 9, 2300, 1523, 5, 647, 4, 116, 9, 35, 2, 4, 229, 9, 340, 1322, 4, 118, 9, 4, 130, 4901, 19, 4, 1002, 5, 89, 29, 952, 46, 37, 4, 455, 9, 45, 43, 38, 1543, 1905, 398, 4, 1649, 26, 2, 5, 163, 11, 3215, 2, 4, 1153, 9, 194, 775, 7, 2, 2, 349, 2637, 148, 605, 2, 2, 15, 123, 125, 68, 2, 2, 15, 349, 165, 4362, 98, 5, 4, 228, 9, 43, 2, 1157, 15, 299, 120, 5, 120, 174, 11, 220, 175, 136, 50, 9, 4373, 228, 2, 5, 2, 656, 245, 2350, 5, 4, 2, 131, 152, 491, 18, 2, 32, 2, 1212, 14, 9, 6, 371, 78, 22, 625, 64, 1382, 9, 8, 168, 145, 23, 4, 1690, 15, 16, 4, 1355, 5, 28, 6, 52, 154, 462, 33, 89, 78, 285, 16, 145, 95], its length is :189, its type is: <class 'numpy.ndarray'>\n",
            "Model: \"sequential_7\"\n",
            "_________________________________________________________________\n",
            "Layer (type)                 Output Shape              Param #   \n",
            "=================================================================\n",
            "embedding_7 (Embedding)      (None, 500, 32)           160032    \n",
            "_________________________________________________________________\n",
            "lstm_3 (LSTM)                (None, 100)               53200     \n",
            "_________________________________________________________________\n",
            "dense_6 (Dense)              (None, 100)               10100     \n",
            "_________________________________________________________________\n",
            "dense_7 (Dense)              (None, 1)                 101       \n",
            "=================================================================\n",
            "Total params: 223,433\n",
            "Trainable params: 223,433\n",
            "Non-trainable params: 0\n",
            "_________________________________________________________________\n",
            "None\n",
            "Epoch 1/30\n",
            "782/782 [==============================] - 19s 24ms/step - loss: 0.5262 - accuracy: 0.7358\n",
            "Epoch 2/30\n",
            "782/782 [==============================] - 19s 24ms/step - loss: 0.3691 - accuracy: 0.8472\n",
            "Epoch 3/30\n",
            "782/782 [==============================] - 19s 24ms/step - loss: 0.2801 - accuracy: 0.8900\n",
            "Epoch 4/30\n",
            "782/782 [==============================] - 19s 24ms/step - loss: 0.2501 - accuracy: 0.9022\n",
            "Epoch 5/30\n",
            "782/782 [==============================] - 19s 24ms/step - loss: 0.2188 - accuracy: 0.9160\n",
            "Epoch 6/30\n",
            "782/782 [==============================] - 20s 25ms/step - loss: 0.1872 - accuracy: 0.9285\n",
            "Epoch 7/30\n",
            "782/782 [==============================] - 19s 25ms/step - loss: 0.1687 - accuracy: 0.9383\n",
            "Epoch 8/30\n",
            "782/782 [==============================] - 19s 25ms/step - loss: 0.1610 - accuracy: 0.9404\n",
            "Epoch 9/30\n",
            "782/782 [==============================] - 19s 25ms/step - loss: 0.1444 - accuracy: 0.9477\n",
            "Epoch 10/30\n",
            "782/782 [==============================] - 19s 24ms/step - loss: 0.1095 - accuracy: 0.9605\n",
            "Epoch 11/30\n",
            "782/782 [==============================] - 19s 24ms/step - loss: 0.0986 - accuracy: 0.9658\n",
            "Epoch 12/30\n",
            "440/782 [===============>..............] - ETA: 8s - loss: 0.0730 - accuracy: 0.9773"
          ],
          "name": "stdout"
        }
      ]
    }
  ]
}